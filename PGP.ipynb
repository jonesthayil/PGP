{
 "cells": [
  {
   "cell_type": "code",
   "execution_count": 1,
   "metadata": {},
   "outputs": [],
   "source": [
    "import gnupg\n",
    "import os\n",
    "import glob\n",
    "import shutil\n",
    "from datetime import datetime\n",
    "from pathlib import Path\n",
    "from ftplib import FTP\n",
    "DEBUG = True\n",
    "\n",
    "# Head\n",
    "rootpath = 'C:\\\\Users\\\\prashant\\\\Desktop\\\\PGP\\\\FTSol'\n",
    "# Child\n",
    "keypath = rootpath + '\\\\gnupg'\n",
    "imppath = rootpath + '\\\\import_key'\n",
    "exppath = rootpath + '\\\\export_key'\n",
    "mediapath = rootpath + '\\\\media'\n",
    "# Grand Child\n",
    "pvtpath = keypath + '\\\\private-keys-v1.d'\n",
    "pubpath = keypath + '\\\\openpgp-revocs.d'\n",
    "pubkey = exppath + '\\\\pub_key.asc'\n",
    "pvtkey = exppath + '\\\\pvt_key.asc'\n"
   ]
  },
  {
   "cell_type": "code",
   "execution_count": null,
   "metadata": {},
   "outputs": [],
   "source": [
    "# refresh media directory\n",
    "shutil.rmtree(mediapath)\n",
    "os.makedirs(mediapath)\n"
   ]
  },
  {
   "cell_type": "code",
   "execution_count": 2,
   "metadata": {},
   "outputs": [],
   "source": [
    "# PGP Settings\n",
    "EmailKey = \"jones.thayil@gmail.com\"\n",
    "KeyPhrase = 'Pass@123'\n",
    "KeyType = \"RSA\"\n",
    "KeyLen = \"2048\"\n",
    "UserKey = \"FTSPL Server\"\n",
    "Comment = \"RSA 2048\"\n",
    "keyext = ('.asc',)\n"
   ]
  },
  {
   "cell_type": "code",
   "execution_count": 3,
   "metadata": {},
   "outputs": [
    {
     "name": "stdout",
     "output_type": "stream",
     "text": [
      "Index \n",
      " 0 \n",
      "\n",
      "key list \n",
      " {'type': 'pub', 'trust': '-', 'length': '2048', 'algo': '1', 'keyid': 'ADACF6B6D1D9E513', 'date': '1526563261', 'expires': '', 'dummy': '', 'ownertrust': 'f', 'sig': '', 'cap': 'scESC', 'issuer': '', 'flag': '', 'token': '', 'hash': '', 'curve': '', 'compliance': '23', 'updated': '', 'origin': '0', 'uids': ['CPGP_GXS_2048'], 'sigs': [], 'subkeys': [['6E816E8CB90E1E4D', 'e', '67B65FAC2CB8DF98D12DCF496E816E8CB90E1E4D'], ['E0976422F4D47EA2', 'e', '6DE85095478FF5C52709095DE0976422F4D47EA2'], ['98543CCD0B65CBA6', 'e', 'EA9B49F22517F06F15A62EE898543CCD0B65CBA6']], 'fingerprint': '3A0AFF7D0095B25CE20A23CDADACF6B6D1D9E513', 'subkey_info': {'6E816E8CB90E1E4D': {'type': 'sub', 'trust': 'e', 'length': '2048', 'algo': '1', 'keyid': '6E816E8CB90E1E4D', 'date': '1526563261', 'expires': '1619776800', 'dummy': '', 'ownertrust': '', 'uid': '', 'sig': '', 'cap': 'e', 'issuer': '', 'flag': '', 'token': '', 'hash': '', 'curve': '', 'compliance': '23', 'updated': '', 'origin': 'unavailable'}, 'E0976422F4D47EA2': {'type': 'sub', 'trust': '-', 'length': '2048', 'algo': '1', 'keyid': 'E0976422F4D47EA2', 'date': '1580588049', 'expires': '1643660049', 'dummy': '', 'ownertrust': '', 'uid': '', 'sig': '', 'cap': 'e', 'issuer': '', 'flag': '', 'token': '', 'hash': '', 'curve': '', 'compliance': '23', 'updated': '', 'origin': 'unavailable'}, '98543CCD0B65CBA6': {'type': 'sub', 'trust': '-', 'length': '2048', 'algo': '1', 'keyid': '98543CCD0B65CBA6', 'date': '1610222736', 'expires': '1670529936', 'dummy': '', 'ownertrust': '', 'uid': '', 'sig': '', 'cap': 'e', 'issuer': '', 'flag': '', 'token': '', 'hash': '', 'curve': '', 'compliance': '23', 'updated': '', 'origin': 'unavailable'}}} \n",
      "\n",
      "C_fp \n",
      " 3A0AFF7D0095B25CE20A23CDADACF6B6D1D9E513 \n",
      "\n",
      "Index \n",
      " 0 \n",
      "\n",
      "key list \n",
      " {'type': 'pub', 'trust': '-', 'length': '2048', 'algo': '1', 'keyid': 'ADACF6B6D1D9E513', 'date': '1526563261', 'expires': '', 'dummy': '', 'ownertrust': 'f', 'sig': '', 'cap': 'scESC', 'issuer': '', 'flag': '', 'token': '', 'hash': '', 'curve': '', 'compliance': '23', 'updated': '', 'origin': '0', 'uids': ['CPGP_GXS_2048'], 'sigs': [], 'subkeys': [['6E816E8CB90E1E4D', 'e', '67B65FAC2CB8DF98D12DCF496E816E8CB90E1E4D'], ['E0976422F4D47EA2', 'e', '6DE85095478FF5C52709095DE0976422F4D47EA2'], ['98543CCD0B65CBA6', 'e', 'EA9B49F22517F06F15A62EE898543CCD0B65CBA6']], 'fingerprint': '3A0AFF7D0095B25CE20A23CDADACF6B6D1D9E513', 'subkey_info': {'6E816E8CB90E1E4D': {'type': 'sub', 'trust': 'e', 'length': '2048', 'algo': '1', 'keyid': '6E816E8CB90E1E4D', 'date': '1526563261', 'expires': '1619776800', 'dummy': '', 'ownertrust': '', 'uid': '', 'sig': '', 'cap': 'e', 'issuer': '', 'flag': '', 'token': '', 'hash': '', 'curve': '', 'compliance': '23', 'updated': '', 'origin': 'unavailable'}, 'E0976422F4D47EA2': {'type': 'sub', 'trust': '-', 'length': '2048', 'algo': '1', 'keyid': 'E0976422F4D47EA2', 'date': '1580588049', 'expires': '1643660049', 'dummy': '', 'ownertrust': '', 'uid': '', 'sig': '', 'cap': 'e', 'issuer': '', 'flag': '', 'token': '', 'hash': '', 'curve': '', 'compliance': '23', 'updated': '', 'origin': 'unavailable'}, '98543CCD0B65CBA6': {'type': 'sub', 'trust': '-', 'length': '2048', 'algo': '1', 'keyid': '98543CCD0B65CBA6', 'date': '1610222736', 'expires': '1670529936', 'dummy': '', 'ownertrust': '', 'uid': '', 'sig': '', 'cap': 'e', 'issuer': '', 'flag': '', 'token': '', 'hash': '', 'curve': '', 'compliance': '23', 'updated': '', 'origin': 'unavailable'}}} \n",
      "\n",
      "S_fp \n",
      " 3A0AFF7D0095B25CE20A23CDADACF6B6D1D9E513 \n",
      "\n",
      "Index \n",
      " 1 \n",
      "\n",
      "key list \n",
      " {'type': 'pub', 'trust': '-', 'length': '2048', 'algo': '1', 'keyid': 'ADACF6B6D1D9E513', 'date': '1526563261', 'expires': '', 'dummy': '', 'ownertrust': 'f', 'sig': '', 'cap': 'scESC', 'issuer': '', 'flag': '', 'token': '', 'hash': '', 'curve': '', 'compliance': '23', 'updated': '', 'origin': '0', 'uids': ['CPGP_GXS_2048'], 'sigs': [], 'subkeys': [['6E816E8CB90E1E4D', 'e', '67B65FAC2CB8DF98D12DCF496E816E8CB90E1E4D'], ['E0976422F4D47EA2', 'e', '6DE85095478FF5C52709095DE0976422F4D47EA2'], ['98543CCD0B65CBA6', 'e', 'EA9B49F22517F06F15A62EE898543CCD0B65CBA6']], 'fingerprint': '3A0AFF7D0095B25CE20A23CDADACF6B6D1D9E513', 'subkey_info': {'6E816E8CB90E1E4D': {'type': 'sub', 'trust': 'e', 'length': '2048', 'algo': '1', 'keyid': '6E816E8CB90E1E4D', 'date': '1526563261', 'expires': '1619776800', 'dummy': '', 'ownertrust': '', 'uid': '', 'sig': '', 'cap': 'e', 'issuer': '', 'flag': '', 'token': '', 'hash': '', 'curve': '', 'compliance': '23', 'updated': '', 'origin': 'unavailable'}, 'E0976422F4D47EA2': {'type': 'sub', 'trust': '-', 'length': '2048', 'algo': '1', 'keyid': 'E0976422F4D47EA2', 'date': '1580588049', 'expires': '1643660049', 'dummy': '', 'ownertrust': '', 'uid': '', 'sig': '', 'cap': 'e', 'issuer': '', 'flag': '', 'token': '', 'hash': '', 'curve': '', 'compliance': '23', 'updated': '', 'origin': 'unavailable'}, '98543CCD0B65CBA6': {'type': 'sub', 'trust': '-', 'length': '2048', 'algo': '1', 'keyid': '98543CCD0B65CBA6', 'date': '1610222736', 'expires': '1670529936', 'dummy': '', 'ownertrust': '', 'uid': '', 'sig': '', 'cap': 'e', 'issuer': '', 'flag': '', 'token': '', 'hash': '', 'curve': '', 'compliance': '23', 'updated': '', 'origin': 'unavailable'}}} \n",
      "\n",
      "S_fp \n",
      " 3A0AFF7D0095B25CE20A23CDADACF6B6D1D9E513 \n",
      "\n"
     ]
    }
   ],
   "source": [
    "# Auto-Key Import Program\n",
    "if DEBUG:\n",
    "    shutil.rmtree(keypath)  # Deleting gnupg\n",
    "    os.makedirs(keypath)  # Creating gnupg\n",
    "    os.makedirs(pvtpath)  # Creating gnupg/private-keys-v1.d\n",
    "    os.makedirs(pubpath)  # Creating gnupg/openpgp-revocs.d\n",
    "gpg = gnupg.GPG(gnupghome=keypath, verbose=False)\n",
    "gpg.encoding = 'utf-8'\n",
    "\n",
    "# Getting client fingerprint if present\n",
    "keycount = len(glob.glob1(imppath, \"*.asc\"))\n",
    "if keycount == 1:\n",
    "    for num, dirfiles in enumerate(os.listdir(imppath), start=0):\n",
    "        if dirfiles.endswith(\".asc\"):\n",
    "            with open(imppath + '\\\\' + dirfiles, 'r') as file:\n",
    "                f = file.read()\n",
    "                imported_key = gpg.import_keys(f)\n",
    "                C_fp = gpg.list_keys()[num]['fingerprint']\n",
    "                gpg.trust_keys(gpg.list_keys()[num]['fingerprint'], 'TRUST_FULLY')\n",
    "                if DEBUG:\n",
    "                    print('Index \\n', num, '\\n')\n",
    "                    print('key list \\n', gpg.list_keys()[num], '\\n')\n",
    "                    print('C_fp \\n', gpg.list_keys()[num]['fingerprint'], '\\n')\n",
    "\n",
    "# Generate server fingerprint if not present\n",
    "for num, dirfiles in enumerate(os.listdir(exppath), start=0):\n",
    "    if dirfiles.endswith(keyext):\n",
    "        with open(exppath + '\\\\pgp_public_key.asc', 'r') as file:\n",
    "            f = file.read()\n",
    "            imported_key = gpg.import_keys(f)\n",
    "            S_fp = gpg.list_keys()[0]['fingerprint']\n",
    "            gpg.trust_keys(gpg.list_keys()[0]['fingerprint'], 'TRUST_FULLY')\n",
    "            if DEBUG:\n",
    "                print('Index \\n', num, '\\n')\n",
    "                print('key list \\n', gpg.list_keys()[0], '\\n')\n",
    "                print('S_fp \\n', gpg.list_keys()[0]['fingerprint'], '\\n')\n"
   ]
  },
  {
   "cell_type": "code",
   "execution_count": null,
   "metadata": {},
   "outputs": [],
   "source": [
    "# Generate self keys with export\n",
    "input_data = gpg.gen_key_input(key_type=KeyType, key_length=KeyLen, name_real=UserKey, name_comment=Comment, name_email=EmailKey, passphrase=KeyPhrase)\n",
    "\n",
    "# Key\n",
    "key = gpg.gen_key(input_data)\n",
    "if DEBUG: print(\"Key :\\n\", key)\n",
    "\n",
    "# Fingerprint\n",
    "S_fp = key.fingerprint\n",
    "if DEBUG: print(\"Fingerprint :\\n\", S_fp)\n",
    "\n",
    "# Clear Folder\n",
    "shutil.rmtree(exppath)\n",
    "os.makedirs(exppath)\n",
    "\n",
    "# Export Public Key\n",
    "ascii_armored_public_keys = gpg.export_keys(S_fp)\n",
    "with open(pubkey, 'w') as f:\n",
    "    f.write(ascii_armored_public_keys)\n",
    "\n",
    "# Export Private Key\n",
    "ascii_armored_private_keys = gpg.export_keys(S_fp, True)\n",
    "with open(pvtkey, 'w') as f:\n",
    "    f.write(ascii_armored_private_keys)\n"
   ]
  },
  {
   "cell_type": "code",
   "execution_count": 6,
   "metadata": {},
   "outputs": [
    {
     "name": "stdout",
     "output_type": "stream",
     "text": [
      "ok:  False \n",
      "status:  error - sign-encrypt 17 \n",
      "stderr:  gpg: Warning: not using '3A0AFF7D0095B25CE20A23CDADACF6B6D1D9E513' as default key: No secret key\r\n",
      "gpg: all values passed to '--default-key' ignored\r\n",
      "[GNUPG:] KEY_CONSIDERED 3A0AFF7D0095B25CE20A23CDADACF6B6D1D9E513 0\r\n",
      "[GNUPG:] KEY_CONSIDERED 659A0D09BBB03399958AFD55FEF4724B0C7F50E1 0\r\n",
      "gpg: no default secret key: No secret key\r\n",
      "[GNUPG:] INV_SGNR 9\r\n",
      "[GNUPG:] FAILURE sign-encrypt 17\r\n",
      "gpg: [stdin]: sign+encrypt failed: No secret key\r\n",
      "\n"
     ]
    }
   ],
   "source": [
    "# Encrytion Program\n",
    "filename = str(datetime.now().strftime(\"%Y%m%d%H%M%S%f\")) + '.gpg'\n",
    "with open('C:\\\\Users\\\\prashant\\\\Desktop\\\\PGP\\\\test.txt', 'r') as file:\n",
    "    data = file.read()\n",
    "\n",
    "if C_fp:\n",
    "    status = gpg.encrypt(data, recipients=C_fp[0], sign=S_fp, passphrase=KeyPhrase,armor=False, always_trust=True, output=filename)\n",
    "    if DEBUG: print(\"ok: \", status.ok, \"\\nstatus: \", status.status, \"\\nstderr: \", status.stderr)\n",
    "else:\n",
    "    print(\"error\")\n",
    "    log.update({'public Key': 'No Public Key Found. Please import keys...'})\n"
   ]
  },
  {
   "cell_type": "code",
   "execution_count": null,
   "metadata": {},
   "outputs": [],
   "source": []
  }
 ],
 "metadata": {
  "kernelspec": {
   "display_name": "Python 3",
   "language": "python",
   "name": "python3"
  },
  "language_info": {
   "codemirror_mode": {
    "name": "ipython",
    "version": 3
   },
   "file_extension": ".py",
   "mimetype": "text/x-python",
   "name": "python",
   "nbconvert_exporter": "python",
   "pygments_lexer": "ipython3",
   "version": "3.9.4"
  },
  "metadata": {
   "interpreter": {
    "hash": "9754d50f0c815395e33190b4f4f64babd02158bd7a6b2497861def87c779ab81"
   }
  }
 },
 "nbformat": 4,
 "nbformat_minor": 2
}
