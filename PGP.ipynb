{
 "cells": [
  {
   "cell_type": "code",
   "execution_count": 6,
   "metadata": {},
   "outputs": [
    {
     "name": "stdout",
     "output_type": "stream",
     "text": [
      "41A0F38BFCCCD71A583B1019E47E06C9175C3412\n",
      "A8F8B4BFA29016179D1DFA4ABB44DA091B258C40\n",
      "<class 'str'>\n",
      "<class 'str'>\n",
      "am in\n",
      "ok:  True\n",
      "status:  encryption ok\n",
      "stderr:  [GNUPG:] KEY_CONSIDERED 151475F219518CE554B2EBE8895B282049DB9BFC 0\n",
      "[GNUPG:] KEY_CONSIDERED 151475F219518CE554B2EBE8895B282049DB9BFC 2\n",
      "[GNUPG:] KEY_CONSIDERED B315D939A057EE4FFC869960C2242126A00AF865 0\n",
      "[GNUPG:] KEY_CONSIDERED B315D939A057EE4FFC869960C2242126A00AF865 2\n",
      "gpg: checking the trustdb\n",
      "[GNUPG:] KEY_CONSIDERED A8F8B4BFA29016179D1DFA4ABB44DA091B258C40 0\n",
      "[GNUPG:] KEY_CONSIDERED 41A0F38BFCCCD71A583B1019E47E06C9175C3412 0\n",
      "[GNUPG:] KEY_CONSIDERED 37850F9C09C17E2BB1839CFA0035A47D0C2AD7E8 0\n",
      "[GNUPG:] KEY_CONSIDERED 0C0524FF1FC0B68B0DB8EE4BAF95BFEFA2E76D41 0\n",
      "[GNUPG:] KEY_CONSIDERED 2CEB551136BE1ED8EFD004214D0B3DD80B86DB54 0\n",
      "[GNUPG:] KEY_CONSIDERED 7CF9AFC0F1F66888E5ACC586110497EFDE7F924D 0\n",
      "[GNUPG:] KEY_CONSIDERED B315D939A057EE4FFC869960C2242126A00AF865 0\n",
      "[GNUPG:] KEY_CONSIDERED 53F5923F6D54ECDA3EEBDF9E7593903C7525C468 0\n",
      "[GNUPG:] KEY_CONSIDERED 151475F219518CE554B2EBE8895B282049DB9BFC 0\n",
      "[GNUPG:] KEY_CONSIDERED 81AC95252ABE3030E00056B7A2DD74914143AC56 0\n",
      "gpg: marginals needed: 3  completes needed: 1  trust model: pgp\n",
      "gpg: depth: 0  valid:  10  signed:   0  trust: 0-, 0q, 0n, 0m, 0f, 10u\n",
      "[GNUPG:] KEY_CONSIDERED 2CEB551136BE1ED8EFD004214D0B3DD80B86DB54 0\n",
      "[GNUPG:] KEY_CONSIDERED 2CEB551136BE1ED8EFD004214D0B3DD80B86DB54 2\n",
      "[GNUPG:] KEY_CONSIDERED 37850F9C09C17E2BB1839CFA0035A47D0C2AD7E8 0\n",
      "[GNUPG:] KEY_CONSIDERED 37850F9C09C17E2BB1839CFA0035A47D0C2AD7E8 2\n",
      "[GNUPG:] KEY_CONSIDERED A8F8B4BFA29016179D1DFA4ABB44DA091B258C40 0\n",
      "[GNUPG:] KEY_CONSIDERED A8F8B4BFA29016179D1DFA4ABB44DA091B258C40 2\n",
      "[GNUPG:] KEY_CONSIDERED B315D939A057EE4FFC869960C2242126A00AF865 0\n",
      "[GNUPG:] ENCRYPTION_COMPLIANCE_MODE 23\n",
      "[GNUPG:] BEGIN_ENCRYPTION 2 9\n",
      "[GNUPG:] END_ENCRYPTION\n",
      "\n",
      "Test On\n",
      "Test Off -----BEGIN PGP MESSAGE-----\n",
      "\n",
      "hQEMA8IkISagCvhlAQf/SOPhKH3ffAXITZlSFIZoae0WjsnvZ+iKHb1srEQ4tzTG\n",
      "cDBl7EXIybNXLV2wCE9rDP226VLIAtZnSD4A+1Os+XDc/HhE7GAxb2pB0zDiSZCW\n",
      "+WLSRuVpGmKzpKIfZZmqqbcd+UWpnSYxgPKTvHbIjGSk5pIMyqarM1g+4T4gYx+J\n",
      "O/ACRbjmXxZEhIzRfY58YVOQR+2IeaYFVMbC4uz0qWLozgwZubYMyFhY65ZWtL0W\n",
      "6CUVLXG9MDU5c3LIw/DeaQP1/RrEoOiIxsX5+JoO/kK7jjQndSY6CnGnsdgN+Edd\n",
      "f1x6cmbxOut8NbUiFxmYbbqiVI/1e8Mk/x4nesWj79LAxwEDdoVw9Brd7S12GneL\n",
      "3owLTPpwvh7sEOAUWpsc7QWCEziqYgENrqXn2o3CfZ4GlKhe/kZo1VtRTFmeS0M0\n",
      "07iSVhn0Q+hJhNRfPHfBgKDT5sBHKG6XGY62j0wRIRr00MTUibhKcZgpbddoXWtb\n",
      "fV7ec0C70/oDDA1LQ5MJc5U8RfzWpn0uy6jSHkfOATlGKxh2t7mUmgw7/v4fKRNU\n",
      "B1g7vQzy6LzHH6o9uANa2R1SHGh+C8h7HarqR9U83qnkoKunD3GUPScMVh3XH+AL\n",
      "JEQrspFMGDrksubG44t5dXAh79OiD+OplIxSLvJxSJbuO4F16QxsrQxUdb4qHMhU\n",
      "K0aFRtBBTL4h1dUF3CLw9Dali+Iikwidc4tPwk1/CUN9lVtx72NoNUCGVgUdTg0x\n",
      "RWYlSCJqELEuvBVs+mWrZstBkRBLUXNroPoCGX/RaparFqZZHoIjamsyuXz97h9S\n",
      "yFh8HC+6M+sV7PADAkF1qYLKTVB7hd03fu9YXVjHAJneVmePCUX8ebc=\n",
      "=o2DJ\n",
      "-----END PGP MESSAGE-----\n",
      "\n"
     ]
    },
    {
     "data": {
      "text/plain": [
       "'C:\\\\Users\\\\prashant\\\\Desktop\\\\PGP\\\\FTSol\\\\media\\\\encrypted\\\\terms.gpg'"
      ]
     },
     "execution_count": 6,
     "metadata": {},
     "output_type": "execute_result"
    }
   ],
   "source": [
    "import gnupg\n",
    "rootpath = 'C:\\\\Users\\\\prashant\\\\Desktop\\\\PGP\\\\FTSol'\n",
    "keypath = rootpath + '\\gnupg'\n",
    "mediapath = rootpath + '\\\\media'\n",
    "S_Email = 'jones.thayil@gmail.com'\n",
    "S_Passkey = 'Pass@123'\n",
    "S_Type = 'RSA'\n",
    "S_Length = '2048'\n",
    "C_Email = 'jones.thayil@outlook.com'\n",
    "C_Passkey = 'Pass@123'\n",
    "C_Type = 'RSA'\n",
    "C_Length = '2048'\n",
    "gpg = gnupg.GPG(gnupghome=keypath)\n",
    "gpg.encoding = 'utf-8'\n",
    "def generatekey(ftype='Client'):\n",
    "    if ftype == 'Server':\n",
    "        input_data = gpg.gen_key_input(\n",
    "            name_email=S_Email,\n",
    "            passphrase=S_Passkey,\n",
    "            key_type=S_Type,\n",
    "            key_length=S_Length,\n",
    "        )\n",
    "    else:\n",
    "        input_data = gpg.gen_key_input(\n",
    "            name_email=C_Email,\n",
    "            passphrase=C_Passkey,\n",
    "            key_type=C_Type,\n",
    "            key_length=C_Length,\n",
    "        )\n",
    "    newkey = gpg.gen_key(input_data)\n",
    "    print(newkey)\n",
    "    return str(newkey)\n",
    "\n",
    "S_Key = generatekey('Server')\n",
    "C_Key = generatekey()\n",
    "print(type(S_Key))\n",
    "print(type(C_Key))\n",
    "# print(gpg.list_keys())\n",
    "# print(gpg.list_keys(True))\n",
    "def ftecrt(filename):\n",
    "    print('am in')\n",
    "    sigfile = mediapath + \"\\\\signatures\" + filename.split(\".\")[0] + \".sig\"\n",
    "    resultfile = mediapath + \"\\\\encrypted\" + filename.split(\".\")[0] + \".gpg\"\n",
    "    with open(mediapath + filename, \"rb\") as f:\n",
    "        stream = gpg.sign_file(f,passphrase=S_Passkey,detach = True, output=sigfile)\n",
    "    with open(mediapath + filename, 'rb') as f:\n",
    "        status = gpg.encrypt_file(f,recipients=[C_Email],output= resultfile)\n",
    "        print(\"ok: \", status.ok)\n",
    "        print(\"status: \", status.status)\n",
    "        print(\"stderr: \", status.stderr)\n",
    "    print('Test On')\n",
    "    a = gpg.encrypt('data', recipients=[C_Email], sign=S_Key, passphrase=S_Passkey)\n",
    "    print('Test Off', a)\n",
    "    return str(resultfile)\n",
    "ftecrt('\\\\terms.txt')"
   ]
  },
  {
   "cell_type": "code",
   "execution_count": null,
   "metadata": {},
   "outputs": [],
   "source": []
  },
  {
   "cell_type": "code",
   "execution_count": null,
   "metadata": {},
   "outputs": [],
   "source": []
  }
 ],
 "metadata": {
  "kernelspec": {
   "display_name": "Python 3",
   "language": "python",
   "name": "python3"
  },
  "language_info": {
   "codemirror_mode": {
    "name": "ipython",
    "version": 3
   },
   "file_extension": ".py",
   "mimetype": "text/x-python",
   "name": "python",
   "nbconvert_exporter": "python",
   "pygments_lexer": "ipython3",
   "version": "3.9.2"
  },
  "metadata": {
   "interpreter": {
    "hash": "9754d50f0c815395e33190b4f4f64babd02158bd7a6b2497861def87c779ab81"
   }
  }
 },
 "nbformat": 4,
 "nbformat_minor": 2
}
